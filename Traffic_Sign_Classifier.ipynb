{
 "cells": [
  {
   "cell_type": "markdown",
   "metadata": {},
   "source": [
    "# Self-Driving Car Engineer Nanodegree\n",
    "\n",
    "## Deep Learning\n",
    "\n",
    "## Project: Build a Traffic Sign Recognition Classifier\n",
    "\n",
    "In this notebook, a template is provided for you to implement your functionality in stages, which is required to successfully complete this project. If additional code is required that cannot be included in the notebook, be sure that the Python code is successfully imported and included in your submission if necessary. \n",
    "\n",
    "> **Note**: Once you have completed all of the code implementations, you need to finalize your work by exporting the iPython Notebook as an HTML document. Before exporting the notebook to html, all of the code cells need to have been run so that reviewers can see the final implementation and output. You can then export the notebook by using the menu above and navigating to  \\n\",\n",
    "    \"**File -> Download as -> HTML (.html)**. Include the finished document along with this notebook as your submission. \n",
    "\n",
    "In addition to implementing code, there is a writeup to complete. The writeup should be completed in a separate file, which can be either a markdown file or a pdf document. There is a [write up template](https://github.com/udacity/CarND-Traffic-Sign-Classifier-Project/blob/master/writeup_template.md) that can be used to guide the writing process. Completing the code template and writeup template will cover all of the [rubric points](https://review.udacity.com/#!/rubrics/481/view) for this project.\n",
    "\n",
    "The [rubric](https://review.udacity.com/#!/rubrics/481/view) contains \"Stand Out Suggestions\" for enhancing the project beyond the minimum requirements. The stand out suggestions are optional. If you decide to pursue the \"stand out suggestions\", you can include the code in this Ipython notebook and also discuss the results in the writeup file.\n",
    "\n",
    "\n",
    ">**Note:** Code and Markdown cells can be executed using the **Shift + Enter** keyboard shortcut. In addition, Markdown cells can be edited by typically double-clicking the cell to enter edit mode."
   ]
  },
  {
   "cell_type": "markdown",
   "metadata": {},
   "source": [
    "---\n",
    "## Step 0: Load The Data"
   ]
  },
  {
   "cell_type": "markdown",
   "metadata": {},
   "source": [
    "### Import Modules"
   ]
  },
  {
   "cell_type": "code",
   "execution_count": 1,
   "metadata": {
    "collapsed": false
   },
   "outputs": [],
   "source": [
    "from sklearn.utils import shuffle\n",
    "import pickle\n",
    "import matplotlib.pyplot as plt\n",
    "import matplotlib.image as mpimg\n",
    "import matplotlib.gridspec as gridspec\n",
    "import os\n",
    "import PIL\n",
    "from PIL import Image\n",
    "import random\n",
    "import tensorflow as tf\n",
    "from tensorflow.contrib.layers import flatten\n",
    "import numpy as np\n",
    "import cv2\n",
    "import skimage.transform\n",
    "# Visualizations will be shown in the notebook.\n",
    "%matplotlib inline"
   ]
  },
  {
   "cell_type": "markdown",
   "metadata": {},
   "source": [
    "### Load the data"
   ]
  },
  {
   "cell_type": "code",
   "execution_count": 2,
   "metadata": {
    "collapsed": false
   },
   "outputs": [],
   "source": [
    "# TODO: Fill this in based on where you saved the training and testing data.\n",
    "\n",
    "training_file = \"/home/carnd/CarND-Traffic-Sign-Classifier-Project/traffic-signs-data/train.p\"\n",
    "validation_file= \"/home/carnd/CarND-Traffic-Sign-Classifier-Project/traffic-signs-data/valid.p\"\n",
    "testing_file = \"/home/carnd/CarND-Traffic-Sign-Classifier-Project/traffic-signs-data/test.p\"\n",
    "\n",
    "with open(training_file, mode='rb') as f:\n",
    "    train = pickle.load(f)\n",
    "with open(validation_file, mode='rb') as f:\n",
    "    valid = pickle.load(f)\n",
    "with open(testing_file, mode='rb') as f:\n",
    "    test = pickle.load(f)\n",
    "    \n",
    "X_train, y_train = train['features'], train['labels']\n",
    "X_valid, y_valid = valid['features'], valid['labels']\n",
    "X_test, y_test = test['features'], test['labels']"
   ]
  },
  {
   "cell_type": "markdown",
   "metadata": {},
   "source": [
    "---\n",
    "\n",
    "## Step 1: Dataset Summary & Exploration\n",
    "\n",
    "The pickled data is a dictionary with 4 key/value pairs:\n",
    "\n",
    "- `'features'` is a 4D array containing raw pixel data of the traffic sign images, (num examples, width, height, channels).\n",
    "- `'labels'` is a 1D array containing the label/class id of the traffic sign. The file `signnames.csv` contains id -> name mappings for each id.\n",
    "- `'sizes'` is a list containing tuples, (width, height) representing the original width and height the image.\n",
    "- `'coords'` is a list containing tuples, (x1, y1, x2, y2) representing coordinates of a bounding box around the sign in the image. **THESE COORDINATES ASSUME THE ORIGINAL IMAGE. THE PICKLED DATA CONTAINS RESIZED VERSIONS (32 by 32) OF THESE IMAGES**\n",
    "\n",
    "Complete the basic data summary below. Use python, numpy and/or pandas methods to calculate the data summary rather than hard coding the results. For example, the [pandas shape method](http://pandas.pydata.org/pandas-docs/stable/generated/pandas.DataFrame.shape.html) might be useful for calculating some of the summary results. "
   ]
  },
  {
   "cell_type": "markdown",
   "metadata": {},
   "source": [
    "### Provide a Basic Summary of the Data Set Using Python, Numpy and/or Pandas"
   ]
  },
  {
   "cell_type": "code",
   "execution_count": 3,
   "metadata": {
    "collapsed": false
   },
   "outputs": [
    {
     "name": "stdout",
     "output_type": "stream",
     "text": [
      "Number of training features is equal to number of training labels. -> Good!\n",
      "Number of validation features is equal to number of validation labels. -> Good!\n",
      "Number of test features is equal to number of test labels. -> Good!\n",
      "\n",
      "Number of training examples = 34799\n",
      "Number of validation examples = 4410\n",
      "Number of testing examples = 12630\n",
      "Image data shape = (32, 32, 3)\n",
      "Number of classes = 43\n"
     ]
    }
   ],
   "source": [
    "# TODO: Number of training examples.\n",
    "if X_train.shape[0] == y_train.shape[0]:\n",
    "    n_train = X_train.shape[0]\n",
    "    print('Number of training features is equal to number of training labels. -> Good!')\n",
    "else:\n",
    "    print(\"Number of features is NOT equal to number of labels in the training set. -> Error!!!\")\n",
    "\n",
    "# TODO: Number of validation examples.\n",
    "if X_valid.shape[0] == y_valid.shape[0]:\n",
    "    n_validation = X_valid.shape[0]\n",
    "    print('Number of validation features is equal to number of validation labels. -> Good!')\n",
    "else:\n",
    "    print(\"Number of features is NOT equal to number of labels in the validation set. -> Error!!!\")\n",
    "\n",
    "# TODO: Number of testing examples.\n",
    "if X_test.shape[0] == y_test.shape[0]:\n",
    "    n_test = X_test.shape[0]\n",
    "    print('Number of test features is equal to number of test labels. -> Good!')\n",
    "else:\n",
    "    print(\"Number of features is NOT equal to number of labels in the test set. -> Error!!!\")\n",
    "\n",
    "# TODO: What's the shape of an traffic sign image?\n",
    "image_shape = X_train.shape[1:4]\n",
    "\n",
    "# TODO: How many unique classes/labels there are in the dataset.\n",
    "n_classes = len(set(y_train))\n",
    "\n",
    "# Print information.\n",
    "print()\n",
    "print(\"Number of training examples =\", n_train)\n",
    "print(\"Number of validation examples =\", n_validation)\n",
    "print(\"Number of testing examples =\", n_test)\n",
    "print(\"Image data shape =\", image_shape)\n",
    "print(\"Number of classes =\", n_classes)"
   ]
  },
  {
   "cell_type": "markdown",
   "metadata": {},
   "source": [
    "### Include an exploratory visualization of the dataset"
   ]
  },
  {
   "cell_type": "markdown",
   "metadata": {},
   "source": [
    "Visualize the German Traffic Signs Dataset using the pickled file(s). This is open ended, suggestions include: plotting traffic sign images, plotting the count of each sign, etc. \n",
    "\n",
    "The [Matplotlib](http://matplotlib.org/) [examples](http://matplotlib.org/examples/index.html) and [gallery](http://matplotlib.org/gallery.html) pages are a great resource for doing visualizations in Python.\n",
    "\n",
    "**NOTE:** It's recommended you start with something simple first. If you wish to do more, come back to it after you've completed the rest of the sections. It can be interesting to look at the distribution of classes in the training, validation and test set. Is the distribution the same? Are there more examples of some classes than others?"
   ]
  },
  {
   "cell_type": "markdown",
   "metadata": {},
   "source": [
    "#### Visualization"
   ]
  },
  {
   "cell_type": "code",
   "execution_count": 4,
   "metadata": {
    "collapsed": false
   },
   "outputs": [
    {
     "name": "stdout",
     "output_type": "stream",
     "text": [
      "8\n"
     ]
    },
    {
     "data": {
      "image/png": "[encoded data removed]",
      "text/plain": [
       "<matplotlib.figure.Figure at 0x7fdb82372748>"
      ]
     },
     "metadata": {},
     "output_type": "display_data"
    }
   ],
   "source": [
    "# Plot randomly chosen traffic sign from training data with its class id.\n",
    "index = random.randint(0, n_train)\n",
    "image = X_train[index].squeeze()\n",
    "\n",
    "plt.figure(figsize=(3,3))\n",
    "plt.imshow(image)\n",
    "print(y_train[index])"
   ]
  },
  {
   "cell_type": "markdown",
   "metadata": {},
   "source": [
    "#### Traffic sign distribution"
   ]
  },
  {
   "cell_type": "code",
   "execution_count": 5,
   "metadata": {
    "collapsed": false
   },
   "outputs": [
    {
     "data": {
      "text/plain": [
       "(array([  180.,  1980.,  2010.,  1260.,  1770.,  1650.,   360.,  1290.,\n",
       "         1260.,  1320.,  1800.,  1170.,  1890.,  1920.,   690.,   540.,\n",
       "          360.,   990.,  1080.,   180.,   300.,   270.,   330.,   450.,\n",
       "          240.,  1350.,   540.,   210.,   480.,   240.,   390.,   690.,\n",
       "          210.,   599.,   360.,  1080.,   330.,   180.,  1860.,   270.,\n",
       "          300.,   210.,   210.]),\n",
       " array([  0.        ,   0.97674419,   1.95348837,   2.93023256,\n",
       "          3.90697674,   4.88372093,   5.86046512,   6.8372093 ,\n",
       "          7.81395349,   8.79069767,   9.76744186,  10.74418605,\n",
       "         11.72093023,  12.69767442,  13.6744186 ,  14.65116279,\n",
       "         15.62790698,  16.60465116,  17.58139535,  18.55813953,\n",
       "         19.53488372,  20.51162791,  21.48837209,  22.46511628,\n",
       "         23.44186047,  24.41860465,  25.39534884,  26.37209302,\n",
       "         27.34883721,  28.3255814 ,  29.30232558,  30.27906977,\n",
       "         31.25581395,  32.23255814,  33.20930233,  34.18604651,\n",
       "         35.1627907 ,  36.13953488,  37.11627907,  38.09302326,\n",
       "         39.06976744,  40.04651163,  41.02325581,  42.        ]),\n",
       " <a list of 43 Patch objects>)"
      ]
     },
     "execution_count": 5,
     "metadata": {},
     "output_type": "execute_result"
    },
    {
     "data": {
      "image/png": "[encoded data removed]",
      "text/plain": [
       "<matplotlib.figure.Figure at 0x7fdb82372390>"
      ]
     },
     "metadata": {},
     "output_type": "display_data"
    }
   ],
   "source": [
    "# Plot histogram of traffic sign type distribution in original training data.\n",
    "plt.title('before training data augmentation')\n",
    "plt.xlabel('traffic sign class id')\n",
    "plt.ylabel('counts')\n",
    "plt.hist(y_train, bins = 43)"
   ]
  },
  {
   "cell_type": "markdown",
   "metadata": {},
   "source": [
    "----\n",
    "\n",
    "## Step 2: Design and Test a Model Architecture\n",
    "\n",
    "Design and implement a deep learning model that learns to recognize traffic signs. Train and test your model on the [German Traffic Sign Dataset](http://benchmark.ini.rub.de/?section=gtsrb&subsection=dataset).\n",
    "\n",
    "The LeNet-5 implementation shown in the [classroom](https://classroom.udacity.com/nanodegrees/nd013/parts/fbf77062-5703-404e-b60c-95b78b2f3f9e/modules/6df7ae49-c61c-4bb2-a23e-6527e69209ec/lessons/601ae704-1035-4287-8b11-e2c2716217ad/concepts/d4aca031-508f-4e0b-b493-e7b706120f81) at the end of the CNN lesson is a solid starting point. You'll have to change the number of classes and possibly the preprocessing, but aside from that it's plug and play! \n",
    "\n",
    "With the LeNet-5 solution from the lecture, you should expect a validation set accuracy of about 0.89. To meet specifications, the validation set accuracy will need to be at least 0.93. It is possible to get an even higher accuracy, but 0.93 is the minimum for a successful project submission. \n",
    "\n",
    "There are various aspects to consider when thinking about this problem:\n",
    "\n",
    "- Neural network architecture (is the network over or underfitting?)\n",
    "- Play around preprocessing techniques (normalization, rgb to grayscale, etc)\n",
    "- Number of examples per label (some have more than others).\n",
    "- Generate fake data.\n",
    "\n",
    "Here is an example of a [published baseline model on this problem](http://yann.lecun.com/exdb/publis/pdf/sermanet-ijcnn-11.pdf). It's not required to be familiar with the approach used in the paper but, it's good practice to try to read papers like these."
   ]
  },
  {
   "cell_type": "markdown",
   "metadata": {},
   "source": [
    "### Training data augmentation"
   ]
  },
  {
   "cell_type": "code",
   "execution_count": 4,
   "metadata": {
    "collapsed": false
   },
   "outputs": [
    {
     "name": "stdout",
     "output_type": "stream",
     "text": [
      "Training data augmented. -> Done!\n",
      "Number of features is equal to number of labels in the augmented training set. -> Good!\n",
      "\n",
      "Number of training examples after augmentation = 57028\n",
      "Image data shape after augmentation = (32, 32, 3)\n",
      "Number of classes after augmentation = 43\n"
     ]
    }
   ],
   "source": [
    "#%%time\n",
    "\n",
    "# Define image rotation around center of image.\n",
    "def rotate(image, angle):\n",
    "    return skimage.transform.rotate(image, angle, resize = False, center = None, mode = 'edge')\n",
    "     \n",
    "# Define image resize.\n",
    "def resize(image):\n",
    "    resized_image = cv2.resize(image, dsize = (28, 28))\n",
    "    return np.pad(resized_image, ((2,2),(2,2),(0,0)), 'edge')\n",
    "\n",
    "# Define append function.\n",
    "def add(X_data, y_data, x, y):\n",
    "    return X_data.append(x), y_data.append(y)\n",
    "\n",
    "# Define data augmentation (threshoold1, threshold2).\n",
    "def augment(X_data, y_data, n_classes, threshold1, threshold2):\n",
    "    X_train_aug = []\n",
    "    y_train_aug = []\n",
    "    \n",
    "    low_numbers = set([low for low in range(n_classes) if np.bincount(y_data)[low] < threshold1])\n",
    "    medium_numbers = set([medium for medium in range(n_classes) if np.bincount(y_data)[medium] < threshold2 and np.bincount(y_data)[medium] > threshold1])\n",
    "    \n",
    "    for x, y in zip(X_data, y_data):\n",
    "        \n",
    "        add(X_train_aug, y_train_aug, x, y)\n",
    "        \n",
    "        if y in low_numbers:\n",
    "            rotated_image = rotate(x, 10)\n",
    "            add(X_train_aug, y_train_aug, rotated_image, y)\n",
    "            \n",
    "            resized_image = resize(x)\n",
    "            add(X_train_aug, y_train_aug, resized_image, y)\n",
    "            \n",
    "            rotated_image = rotate(x, -10)\n",
    "            add(X_train_aug, y_train_aug, resize(rotated_image), y)\n",
    "            \n",
    "        elif y in medium_numbers:\n",
    "            resized_image = resize(x)\n",
    "            add(X_train_aug, y_train_aug, resized_image, y)\n",
    "\n",
    "        else:\n",
    "            pass\n",
    "        \n",
    "    return np.array(X_train_aug, np.uint8), np.array(y_train_aug, np.uint8)\n",
    "\n",
    "# Augment training traffic signs that are underrepresented (thresholds).\n",
    "X_train_aug, y_train_aug = augment(X_train, y_train, n_classes, 500, 1000)\n",
    "print('Training data augmented. -> Done!')\n",
    "\n",
    "if X_train_aug.shape[0] == y_train_aug.shape[0]:\n",
    "    n_train_aug = X_train_aug.shape[0]\n",
    "    print(\"Number of features is equal to number of labels in the augmented training set. -> Good!\")\n",
    "else:\n",
    "    print(\"Number of features is NOT equal to number of labels in the augmented training set. -> Error!!!\")\n",
    "\n",
    "image_shape_aug = X_train_aug.shape[1:4]\n",
    "\n",
    "n_classes_aug = len(set(y_train_aug))\n",
    "\n",
    "print()\n",
    "print(\"Number of training examples after augmentation =\", n_train_aug)\n",
    "print(\"Image data shape after augmentation =\", image_shape_aug)\n",
    "print(\"Number of classes after augmentation =\", n_classes_aug)"
   ]
  },
  {
   "cell_type": "markdown",
   "metadata": {},
   "source": [
    "#### Visualization"
   ]
  },
  {
   "cell_type": "code",
   "execution_count": 7,
   "metadata": {
    "collapsed": false
   },
   "outputs": [
    {
     "name": "stdout",
     "output_type": "stream",
     "text": [
      "17\n"
     ]
    },
    {
     "data": {
      "image/png": "[encoded data removed]",
      "text/plain": [
       "<matplotlib.figure.Figure at 0x7fdb822816d8>"
      ]
     },
     "metadata": {},
     "output_type": "display_data"
    }
   ],
   "source": [
    "# Plot randomly chosen traffic sign from added training data by augmentation together with its class id.\n",
    "index_aug = random.randint(n_train, n_train_aug)\n",
    "image_aug = X_train_aug[index_aug].squeeze()\n",
    "\n",
    "plt.figure(figsize=(3,3))\n",
    "plt.imshow(image_aug)\n",
    "print(y_train_aug[index_aug])"
   ]
  },
  {
   "cell_type": "markdown",
   "metadata": {},
   "source": [
    "#### Traffic sign distribution after training data augmentation"
   ]
  },
  {
   "cell_type": "code",
   "execution_count": 8,
   "metadata": {
    "collapsed": false
   },
   "outputs": [
    {
     "data": {
      "text/plain": [
       "(array([  720.,  1980.,  2010.,  1260.,  1770.,  1650.,  1440.,  1290.,\n",
       "         1260.,  1320.,  1800.,  1170.,  1890.,  1920.,  1380.,  1080.,\n",
       "         1440.,  1980.,  1080.,   720.,  1200.,  1080.,  1320.,  1800.,\n",
       "          960.,  1350.,  1080.,   840.,  1920.,   960.,  1560.,  1380.,\n",
       "          840.,  1198.,  1440.,  1080.,  1320.,   720.,  1860.,  1080.,\n",
       "         1200.,   840.,   840.]),\n",
       " array([  0.        ,   0.97674419,   1.95348837,   2.93023256,\n",
       "          3.90697674,   4.88372093,   5.86046512,   6.8372093 ,\n",
       "          7.81395349,   8.79069767,   9.76744186,  10.74418605,\n",
       "         11.72093023,  12.69767442,  13.6744186 ,  14.65116279,\n",
       "         15.62790698,  16.60465116,  17.58139535,  18.55813953,\n",
       "         19.53488372,  20.51162791,  21.48837209,  22.46511628,\n",
       "         23.44186047,  24.41860465,  25.39534884,  26.37209302,\n",
       "         27.34883721,  28.3255814 ,  29.30232558,  30.27906977,\n",
       "         31.25581395,  32.23255814,  33.20930233,  34.18604651,\n",
       "         35.1627907 ,  36.13953488,  37.11627907,  38.09302326,\n",
       "         39.06976744,  40.04651163,  41.02325581,  42.        ]),\n",
       " <a list of 43 Patch objects>)"
      ]
     },
     "execution_count": 8,
     "metadata": {},
     "output_type": "execute_result"
    },
    {
     "data": {
      "image/png": "[encoded data removed]",
      "text/plain": [
       "<matplotlib.figure.Figure at 0x7fdb82185278>"
      ]
     },
     "metadata": {},
     "output_type": "display_data"
    }
   ],
   "source": [
    "# Plot histogram of traffic sign type distribution in training data after augmentation.\n",
    "plt.title('after training data augmentation')\n",
    "plt.xlabel('traffic sign class id')\n",
    "plt.ylabel('counts')\n",
    "plt.hist(y_train_aug, bins = 43)"
   ]
  },
  {
   "cell_type": "markdown",
   "metadata": {},
   "source": [
    "### Pre-process the Data Set (normalization, grayscale, etc.)"
   ]
  },
  {
   "cell_type": "markdown",
   "metadata": {},
   "source": [
    "Minimally, the image data should be normalized so that the data has mean zero and equal variance. For image data, `(pixel - 128)/ 128` is a quick way to approximately normalize the data and can be used in this project. \n",
    "\n",
    "Other pre-processing steps are optional. You can try different techniques to see if it improves performance. \n",
    "\n",
    "Use the code cell (or multiple code cells, if necessary) to implement the first step of your project."
   ]
  },
  {
   "cell_type": "markdown",
   "metadata": {},
   "source": [
    "#### Grayscale"
   ]
  },
  {
   "cell_type": "code",
   "execution_count": 9,
   "metadata": {
    "collapsed": false
   },
   "outputs": [
    {
     "name": "stdout",
     "output_type": "stream",
     "text": [
      "Converted to grayscale. -> Done!\n",
      "Number of training features is equal to number of training labels after conversion to grayscale. -> Good!\n",
      "Number of validation features is equal to number of validation labels after conversion to grayscale. -> Good!\n",
      "Number of test features is equal to number of test labels after conversion to grayscale. -> Good!\n",
      "\n",
      "Number of training examples after conversion to grayscale = 57028\n",
      "Number of validation examples after conversion to grayscale = 4410\n",
      "Number of test examples after conversion to grayscale = 12630\n",
      "Image data shape after conversion to grayscale = (32, 32, 1)\n",
      "Number of classes after conversion to grayscale = 43\n"
     ]
    }
   ],
   "source": [
    "#%%time\n",
    "\n",
    "# Define append function.\n",
    "def add_gray(X_data, x):\n",
    "    return X_data.append(x)\n",
    "\n",
    "# Define image conversion to grayscale.\n",
    "def grayscale(image):\n",
    "    image_gray = cv2.cvtColor(image, cv2.COLOR_RGB2GRAY)\n",
    "    return np.expand_dims(image_gray, axis = 2)\n",
    "\n",
    "# Define data conversion to grayscale.\n",
    "def conv_gray(X_data):\n",
    "    X_data_gray = []\n",
    "    \n",
    "    for x in X_data:\n",
    "        image_gray = grayscale(x)\n",
    "        add_gray(X_data_gray, image_gray)\n",
    "    return np.array(X_data_gray, np.uint8)\n",
    "    \n",
    "# Convert images to grayscale.\n",
    "X_train_gray = conv_gray(X_train_aug)\n",
    "X_valid_gray = conv_gray(X_valid)\n",
    "X_test_gray = conv_gray(X_test)\n",
    "\n",
    "y_train_gray = y_train_aug\n",
    "y_valid_gray = y_valid\n",
    "y_test_gray = y_test\n",
    "print('Converted to grayscale. -> Done!')\n",
    "\n",
    "# Print information.\n",
    "if X_train_gray.shape[0] == y_train_gray.shape[0]:\n",
    "    n_train_gray = X_train_gray.shape[0]\n",
    "    print('Number of training features is equal to number of training labels after conversion to grayscale. -> Good!')\n",
    "else:\n",
    "    print(\"Number of training features is NOT equal to number of training labels after conversion to grayscale. -> Error!!!\")\n",
    "    \n",
    "if X_valid_gray.shape[0] == y_valid_gray.shape[0]:\n",
    "    n_valid_gray = X_valid_gray.shape[0]\n",
    "    print('Number of validation features is equal to number of validation labels after conversion to grayscale. -> Good!')\n",
    "else:\n",
    "    print(\"Number of validation features is NOT equal to number of validation labels after conversion to grayscale. -> Error!!!\")\n",
    "    \n",
    "if X_test_gray.shape[0] == y_test_gray.shape[0]:\n",
    "    n_test_gray = X_test_gray.shape[0]\n",
    "    print('Number of test features is equal to number of test labels after conversion to grayscale. -> Good!')\n",
    "else:\n",
    "    print(\"Number of test features is NOT equal to number of test labels after conversion to grayscale. -> Error!!!\")\n",
    "\n",
    "image_shape_gray = X_train_gray.shape[1:4]\n",
    "n_classes_gray = len(set(y_train_gray))\n",
    "print()\n",
    "print(\"Number of training examples after conversion to grayscale =\", n_train_gray)\n",
    "print(\"Number of validation examples after conversion to grayscale =\", n_valid_gray)\n",
    "print(\"Number of test examples after conversion to grayscale =\", n_test_gray)\n",
    "print(\"Image data shape after conversion to grayscale =\", image_shape_gray)\n",
    "print(\"Number of classes after conversion to grayscale =\", n_classes_gray)"
   ]
  },
  {
   "cell_type": "markdown",
   "metadata": {},
   "source": [
    "#### Grayscale visualization"
   ]
  },
  {
   "cell_type": "code",
   "execution_count": 16,
   "metadata": {
    "collapsed": false
   },
   "outputs": [
    {
     "name": "stdout",
     "output_type": "stream",
     "text": [
      "11\n"
     ]
    },
    {
     "data": {
      "image/png": "[encoded data removed]",
      "text/plain": [
       "<matplotlib.figure.Figure at 0x7fdb8207f0f0>"
      ]
     },
     "metadata": {},
     "output_type": "display_data"
    }
   ],
   "source": [
    "# Plot randomly chosen traffic sign from augmented training data in grayscale together with its class id.\n",
    "index_gray = random.randint(0, n_train_gray)\n",
    "image_gray = X_train_gray[index_gray].squeeze()\n",
    "\n",
    "plt.figure(figsize=(3,3))\n",
    "plt.imshow(image_gray)\n",
    "print(y_train_gray[index_gray])"
   ]
  },
  {
   "cell_type": "markdown",
   "metadata": {},
   "source": [
    "#### Normalization"
   ]
  },
  {
   "cell_type": "code",
   "execution_count": 6,
   "metadata": {
    "collapsed": false
   },
   "outputs": [
    {
     "name": "stdout",
     "output_type": "stream",
     "text": [
      "All images normalized. -> Done!\n",
      "Number of training features is equal to number of training labels after normalization. -> Good!\n",
      "Number of validation features is equal to number of validation labels after normalization. -> Good!\n",
      "Number of test features is equal to number of test labels after normalization. -> Good!\n",
      "\n",
      "Number of training examples after normalization = 57028\n",
      "Number of validation examples after normalization = 4410\n",
      "Number of test examples after normalization = 12630\n",
      "Image data shape after normalization = (32, 32, 3)\n",
      "Number of classes after normalization = 43\n"
     ]
    }
   ],
   "source": [
    "# Simple normalization.\n",
    "#X_train_norm = (X_train_gray - 128) / 128\n",
    "#X_valid_norm = (X_valid_gray - 128) / 128\n",
    "\n",
    "# Define min-max normalization.\n",
    "#def normalize(image):\n",
    "    #a = -1\n",
    "    #b = 1\n",
    "    #x_min = 0\n",
    "    #x_max = 255\n",
    "    #return a + (((image - x_min) * (b - a)) / (x_max - x_min))\n",
    "\n",
    "# Define append function.\n",
    "def add_norm(X_data, x):\n",
    "    return X_data.append(x)\n",
    "    \n",
    "# Define image normalization with min-max method.\n",
    "def normalize(X_data):\n",
    "    X_data_norm = []\n",
    "    for x in X_data:\n",
    "        dst = np.zeros((image_shape[0], image_shape[1], image_shape[2]), dtype = np.float)\n",
    "        normalized_image = cv2.normalize(x, dst, 0, 1, cv2.NORM_MINMAX, dtype = cv2.CV_32F)\n",
    "        normalized_image = normalized_image - 0.5\n",
    "        add_norm(X_data_norm, normalized_image)\n",
    "    return np.array(X_data_norm, np.float)\n",
    "\n",
    "# Normalize images\n",
    "X_train_norm = normalize(X_train_aug)\n",
    "X_valid_norm = normalize(X_valid)\n",
    "X_test_norm = normalize(X_test)\n",
    "\n",
    "y_train_norm = y_train_aug\n",
    "y_valid_norm = y_valid\n",
    "y_test_norm = y_test\n",
    "print('All images normalized. -> Done!')\n",
    "\n",
    "# Print information.\n",
    "if X_train_norm.shape[0] == y_train_norm.shape[0]:\n",
    "    n_train_norm = X_train_norm.shape[0]\n",
    "    print('Number of training features is equal to number of training labels after normalization. -> Good!')\n",
    "else:\n",
    "    print(\"Number of training features is NOT equal to number of training labels after normalization. -> Error!!!\")\n",
    "    \n",
    "if X_valid_norm.shape[0] == y_valid_norm.shape[0]:\n",
    "    n_valid_norm = X_valid_norm.shape[0]\n",
    "    print('Number of validation features is equal to number of validation labels after normalization. -> Good!')\n",
    "else:\n",
    "    print(\"Number of validation features is NOT equal to number of validation labels after normalization. -> Error!!!\")\n",
    "    \n",
    "if X_test_norm.shape[0] == y_test_norm.shape[0]:\n",
    "    n_test_norm = X_test_norm.shape[0]\n",
    "    print('Number of test features is equal to number of test labels after normalization. -> Good!')\n",
    "else:\n",
    "    print(\"Number of test features is NOT equal to number of test labels after normalization. -> Error!!!\")\n",
    "\n",
    "image_shape_norm = X_train_norm.shape[1:4]\n",
    "n_classes_norm = len(set(y_train_norm))\n",
    "print()\n",
    "print(\"Number of training examples after normalization =\", n_train_norm)\n",
    "print(\"Number of validation examples after normalization =\", n_valid_norm)\n",
    "print(\"Number of test examples after normalization =\", n_test_norm)\n",
    "print(\"Image data shape after normalization =\", image_shape_norm)\n",
    "print(\"Number of classes after normalization =\", n_classes_norm)"
   ]
  },
  {
   "cell_type": "markdown",
   "metadata": {},
   "source": [
    "#### Normalization visualization"
   ]
  },
  {
   "cell_type": "code",
   "execution_count": 22,
   "metadata": {
    "collapsed": false
   },
   "outputs": [
    {
     "name": "stdout",
     "output_type": "stream",
     "text": [
      "1\n"
     ]
    },
    {
     "data": {
      "image/png": "[encoded data removed]",
      "text/plain": [
       "<matplotlib.figure.Figure at 0x7f5d143e3c50>"
      ]
     },
     "metadata": {},
     "output_type": "display_data"
    }
   ],
   "source": [
    "# Plot randomly chosen traffic sign from augmented training data after normalization together with its class id.\n",
    "index_norm = random.randint(0, n_train_norm)\n",
    "image_norm = X_train_norm[index_norm].squeeze()\n",
    "\n",
    "plt.figure(figsize=(3,3))\n",
    "plt.imshow(image_norm)\n",
    "print(y_train_norm[index_norm])"
   ]
  },
  {
   "cell_type": "markdown",
   "metadata": {},
   "source": [
    "### Model Architecture"
   ]
  },
  {
   "cell_type": "code",
   "execution_count": 69,
   "metadata": {
    "collapsed": true
   },
   "outputs": [],
   "source": [
    "# Define epochs and batch size.\n",
    "EPOCHS = 10\n",
    "BATCH_SIZE = 64"
   ]
  },
  {
   "cell_type": "code",
   "execution_count": 70,
   "metadata": {
    "collapsed": true
   },
   "outputs": [],
   "source": [
    "# LeNet architecture.\n",
    "def LeNet(x, dropout):    \n",
    "    # Hyperparameters.\n",
    "    mu = 0\n",
    "    sigma = 0.05\n",
    "\n",
    "    # Layer 1: CNN. Input = 32x32x3. Output = 28x28x6.\n",
    "    conv1_W = tf.Variable(tf.truncated_normal(shape=(5, 5, 3, 6), mean = mu, stddev = sigma), name = 'conv1_W')\n",
    "    conv1_b = tf.Variable(tf.zeros(6), name = 'conv1_b')\n",
    "    conv1   = tf.nn.conv2d(x, conv1_W, strides=[1, 1, 1, 1], padding='VALID') + conv1_b\n",
    "\n",
    "    # Activation 1.\n",
    "    act1 = tf.nn.relu(conv1)\n",
    "\n",
    "    # Max pooling 1. Input = 28x28x6. Output = 14x14x6.\n",
    "    max1 = tf.nn.max_pool(act1, ksize=[1, 2, 2, 1], strides=[1, 2, 2, 1], padding='VALID')\n",
    "    \n",
    "    # Layer 2: 1x1 convolution. Input = 14x14x6. Output = 14x14x11.\n",
    "    conv1_1_W = tf.Variable(tf.truncated_normal(shape=(1, 1, 6, 11), mean = mu, stddev = sigma), name = 'conv1_1_W')\n",
    "    conv1_1_b = tf.Variable(tf.zeros(11), name = 'conv1_1_b')\n",
    "    conv1_1   = tf.nn.conv2d(max1, conv1_1_W, strides=[1, 1, 1, 1], padding='VALID') + conv1_1_b\n",
    "    \n",
    "    # Activation 2.\n",
    "    act2 = tf.nn.relu(conv1_1)\n",
    "\n",
    "    # Layer 3: CNN. Input = 14x14x11. Output = 10x10x16.\n",
    "    conv2_W = tf.Variable(tf.truncated_normal(shape=(5, 5, 11, 16), mean = mu, stddev = sigma), name = 'conv2_W')\n",
    "    conv2_b = tf.Variable(tf.zeros(16), name = 'conv2_b')\n",
    "    conv2   = tf.nn.conv2d(act2, conv2_W, strides=[1, 1, 1, 1], padding='VALID') + conv2_b\n",
    "\n",
    "    # Activation 3.\n",
    "    act3 = tf.nn.relu(conv2)\n",
    "\n",
    "    # Max pooling 2. Input = 10x10x16. Output = 5x5x16.\n",
    "    max2 = tf.nn.max_pool(act3, ksize=[1, 2, 2, 1], strides=[1, 2, 2, 1], padding='VALID')\n",
    "\n",
    "    # Flatten. Input = 5x5x16. Output = 400.\n",
    "    f   = flatten(max2)\n",
    "\n",
    "    # Layer 4: FCL. Input = 400. Output = 120.\n",
    "    fc1_W = tf.Variable(tf.truncated_normal(shape=(400, 120), mean = mu, stddev = sigma), name = 'fc1_W')\n",
    "    fc1_b = tf.Variable(tf.zeros(120), name = 'fc1_b')\n",
    "    fc1   = tf.matmul(f, fc1_W) + fc1_b\n",
    "\n",
    "    # Activation 4.\n",
    "    act4  = tf.nn.relu(fc1)\n",
    "    \n",
    "    # Dropout 1.\n",
    "    d1 = tf.nn.dropout(act4, dropout)\n",
    "\n",
    "    # Layer 5: FCL. Input = 120. Output = 84.\n",
    "    fc2_W  = tf.Variable(tf.truncated_normal(shape=(120, 84), mean = mu, stddev = sigma), name = 'fc2_W')\n",
    "    fc2_b  = tf.Variable(tf.zeros(84), name = 'fc2_b')\n",
    "    fc2    = tf.matmul(d1, fc2_W) + fc2_b\n",
    "\n",
    "    # Activation 5.\n",
    "    act5   = tf.nn.relu(fc2)\n",
    "    \n",
    "    # Dropout 2.\n",
    "    #d2 = tf.nn.dropout(act5, dropout)\n",
    "    \n",
    "    # Layer 6: FCL. Input = 84. Output = 60.\n",
    "    #fc3_W  = tf.Variable(tf.truncated_normal(shape=(84, 60), mean = mu, stddev = sigma), name = 'fc3_W')\n",
    "    #fc3_b  = tf.Variable(tf.zeros(60), name = 'fc3_b')\n",
    "    #fc3    = tf.matmul(d2, fc3_W) + fc3_b\n",
    "    \n",
    "    # Activation 6.\n",
    "    #act6   = tf.nn.relu(fc3)\n",
    "\n",
    "    # Layer 7: Output. Input = 84. Output = n_classes_norm.\n",
    "    out_W  = tf.Variable(tf.truncated_normal(shape=(84, n_classes_norm), mean = mu, stddev = sigma), name = 'out_W')\n",
    "    out_b  = tf.Variable(tf.zeros(n_classes_norm), name = 'out_b')\n",
    "    logits = tf.matmul(act5, out_W) + out_b\n",
    "\n",
    "    return logits"
   ]
  },
  {
   "cell_type": "markdown",
   "metadata": {},
   "source": [
    "### Train, Validate and Test the Model"
   ]
  },
  {
   "cell_type": "markdown",
   "metadata": {},
   "source": [
    "A validation set can be used to assess how well the model is performing. A low accuracy on the training and validation\n",
    "sets imply underfitting. A high accuracy on the training set but low accuracy on the validation set implies overfitting."
   ]
  },
  {
   "cell_type": "markdown",
   "metadata": {},
   "source": [
    "#### Features, labels and dropout\n",
    "`x` is a placeholder for a batch of input images.\n",
    "`y` is a placeholder for a batch of output labels.\n",
    "`keep_prob` is a placeholder for the probability in dropout to keep units."
   ]
  },
  {
   "cell_type": "code",
   "execution_count": 71,
   "metadata": {
    "collapsed": false
   },
   "outputs": [],
   "source": [
    "x = tf.placeholder(tf.float32, (None, 32, 32, 3))\n",
    "y = tf.placeholder(tf.int32, (None))\n",
    "one_hot_y = tf.one_hot(y, n_classes_norm)\n",
    "\n",
    "keep_prob = tf.placeholder(tf.float32)"
   ]
  },
  {
   "cell_type": "markdown",
   "metadata": {},
   "source": [
    "#### Training pipeline"
   ]
  },
  {
   "cell_type": "code",
   "execution_count": 72,
   "metadata": {
    "collapsed": false
   },
   "outputs": [],
   "source": [
    "# Define learning rate for the optimizer\n",
    "rate = 0.001\n",
    "\n",
    "# Training pipeline\n",
    "logits = LeNet(x, keep_prob)\n",
    "#predictions = tf.nn.softmax(logits)\n",
    "cross_entropy = tf.nn.softmax_cross_entropy_with_logits(labels=one_hot_y, logits=logits)\n",
    "loss_operation = tf.reduce_mean(cross_entropy)\n",
    "optimizer = tf.train.AdamOptimizer(learning_rate = rate)\n",
    "training_operation = optimizer.minimize(loss_operation)"
   ]
  },
  {
   "cell_type": "markdown",
   "metadata": {},
   "source": [
    "#### Model evaluation"
   ]
  },
  {
   "cell_type": "code",
   "execution_count": 73,
   "metadata": {
    "collapsed": true
   },
   "outputs": [],
   "source": [
    "correct_prediction = tf.equal(tf.argmax(logits, 1), tf.argmax(one_hot_y, 1))\n",
    "accuracy_operation = tf.reduce_mean(tf.cast(correct_prediction, tf.float32))\n",
    "saver = tf.train.Saver()\n",
    "\n",
    "def evaluate(X_data, y_data):\n",
    "    num_examples = len(X_data)\n",
    "    total_accuracy = 0\n",
    "    sess = tf.get_default_session()\n",
    "    for offset in range(0, num_examples, BATCH_SIZE):\n",
    "        batch_x, batch_y = X_data[offset:offset+BATCH_SIZE], y_data[offset:offset+BATCH_SIZE]\n",
    "        accuracy = sess.run(accuracy_operation, feed_dict={x: batch_x, y: batch_y, keep_prob: 1.0})\n",
    "        total_accuracy += (accuracy * len(batch_x))\n",
    "    return total_accuracy / num_examples"
   ]
  },
  {
   "cell_type": "markdown",
   "metadata": {},
   "source": [
    "#### Train the model"
   ]
  },
  {
   "cell_type": "code",
   "execution_count": 74,
   "metadata": {
    "collapsed": false
   },
   "outputs": [
    {
     "name": "stdout",
     "output_type": "stream",
     "text": [
      "Training...\n",
      "\n",
      "EPOCH 1 ...\n",
      "Validation Accuracy = 0.624\n",
      "\n",
      "EPOCH 2 ...\n",
      "Validation Accuracy = 0.842\n",
      "\n",
      "EPOCH 3 ...\n",
      "Validation Accuracy = 0.891\n",
      "\n",
      "EPOCH 4 ...\n",
      "Validation Accuracy = 0.921\n",
      "\n",
      "EPOCH 5 ...\n",
      "Validation Accuracy = 0.930\n",
      "\n",
      "EPOCH 6 ...\n",
      "Validation Accuracy = 0.928\n",
      "\n",
      "EPOCH 7 ...\n",
      "Validation Accuracy = 0.934\n",
      "\n",
      "EPOCH 8 ...\n",
      "Validation Accuracy = 0.932\n",
      "\n",
      "EPOCH 9 ...\n",
      "Validation Accuracy = 0.938\n",
      "\n",
      "EPOCH 10 ...\n",
      "Validation Accuracy = 0.945\n",
      "\n",
      "Model saved\n"
     ]
    }
   ],
   "source": [
    "# Train the model\n",
    "with tf.Session() as sess:\n",
    "    sess.run(tf.global_variables_initializer())\n",
    "    num_examples = len(X_train_norm)\n",
    "    \n",
    "    print(\"Training...\")\n",
    "    print()\n",
    "    for i in range(EPOCHS):\n",
    "        X_train_shuffle, y_train_shuffle = shuffle(X_train_norm, y_train_norm)\n",
    "        for offset in range(0, num_examples, BATCH_SIZE):\n",
    "            end = offset + BATCH_SIZE\n",
    "            batch_x, batch_y = X_train_shuffle[offset:end], y_train_shuffle[offset:end]\n",
    "            sess.run(training_operation, feed_dict={x: batch_x, y: batch_y, keep_prob: 0.5})\n",
    "            \n",
    "        validation_accuracy = evaluate(X_valid_norm, y_valid_norm)\n",
    "        print(\"EPOCH {} ...\".format(i+1))\n",
    "        print(\"Validation Accuracy = {:.3f}\".format(validation_accuracy))\n",
    "        print()\n",
    "        \n",
    "# Save the model    \n",
    "    saver.save(sess, './tsc4')\n",
    "    print(\"Model saved\")"
   ]
  },
  {
   "cell_type": "markdown",
   "metadata": {},
   "source": [
    "#### Test the model"
   ]
  },
  {
   "cell_type": "code",
   "execution_count": 75,
   "metadata": {
    "collapsed": false
   },
   "outputs": [],
   "source": [
    "# Test the model\n",
    "#with tf.Session() as sess:\n",
    "    #saver.restore(sess, './tsc1')\n",
    "    #print(\"Model loaded\")\n",
    "    #test_accuracy = evaluate(X_test_norm, y_test)\n",
    "    #print(\"Test Accuracy = {:.3f}\".format(test_accuracy))"
   ]
  },
  {
   "cell_type": "markdown",
   "metadata": {},
   "source": [
    "---\n",
    "\n",
    "## Step 3: Test a Model on New Images\n",
    "\n",
    "To give yourself more insight into how your model is working, download at least five pictures of German traffic signs from the web and use your model to predict the traffic sign type.\n",
    "\n",
    "You may find `signnames.csv` useful as it contains mappings from the class id (integer) to the actual sign name."
   ]
  },
  {
   "cell_type": "markdown",
   "metadata": {},
   "source": [
    "### Load and Output the Images"
   ]
  },
  {
   "cell_type": "markdown",
   "metadata": {
    "collapsed": true
   },
   "source": [
    "Load the images and plot them here.\n",
    "Feel free to use as many code cells as needed."
   ]
  },
  {
   "cell_type": "code",
   "execution_count": 76,
   "metadata": {
    "collapsed": false
   },
   "outputs": [],
   "source": [
    "# List images\n",
    "#image_list = os.listdir(\"new-german-traffic-signs\")\n",
    "#print('Original image list: ',image_list)\n",
    "\n",
    "# Resize images. Code from https://opensource.com/life/15/2/resize-images-python\n",
    "#width = 32\n",
    "#height = 32\n",
    "#############################################\n",
    "#os.mkdir('new-german-traffic-signs_resized')\n",
    "#############################################\n",
    "#for single_image in image_list:\n",
    "    #print('Image name: ',single_image)\n",
    "    #image = Image.open('new-german-traffic-signs/'+single_image)\n",
    "    #print('Original image size: ',image.size)\n",
    "    #ratio = (width / float(image.size[0]))\n",
    "    #height = int((float(image.size[1]) * float(ratio)))\n",
    "    #image = image.resize((width, height), PIL.Image.ANTIALIAS)\n",
    "    #image.save('new-german-traffic-signs_resized/'+single_image)\n",
    "    #print('Resized Image size: ',image.size)\n",
    "    #plt.imshow(image)\n",
    "    #plt.show()\n",
    "\n",
    "# Load the images\n",
    "#X_new = []\n",
    "#for single_image in image_list:\n",
    "    #image = mpimg.imread('new-german-traffic-signs_resized/'+single_image)\n",
    "    #X_new.append(image)\n",
    "    \n",
    "#X_new = np.array(X_new)\n",
    "#n_new = X_new.shape[0]\n",
    "#image_shape_new = X_new.shape[1:4]\n",
    "#print('Information about new traffic signs:')\n",
    "#print(\"Number of new examples =\", n_new)\n",
    "#print(\"Image data shape =\", image_shape_new)\n",
    "\n",
    "# Output the images\n",
    "#grid = gridspec.GridSpec(1, 5)\n",
    "#print()\n",
    "#print('5 new traffic signs:')\n",
    "#for i in range(len(image_list)):\n",
    "    #image = X_new[i].squeeze()\n",
    "    #plt.subplot(grid[i]).imshow(image)"
   ]
  },
  {
   "cell_type": "markdown",
   "metadata": {},
   "source": [
    "### Predict the Sign Type for Each Image"
   ]
  },
  {
   "cell_type": "code",
   "execution_count": 77,
   "metadata": {
    "collapsed": false
   },
   "outputs": [],
   "source": [
    "### Run the predictions here and use the model to output the prediction for each image.\n",
    "### Make sure to pre-process the images with the same pre-processing pipeline used earlier.\n",
    "### Feel free to use as many code cells as needed."
   ]
  },
  {
   "cell_type": "markdown",
   "metadata": {},
   "source": [
    "#### Normalization"
   ]
  },
  {
   "cell_type": "code",
   "execution_count": 78,
   "metadata": {
    "collapsed": false
   },
   "outputs": [],
   "source": [
    "# Min-Max Normalization\n",
    "#def normalize(image_data):\n",
    "    #a = -1.0\n",
    "    #b = 1.0\n",
    "    #x_min = 0\n",
    "    #x_max = 255\n",
    "    #return a + (((image_data - x_min) * (b - a)) / (x_max - x_min))\n",
    "\n",
    "#X_new_norm = normalize(X_new)"
   ]
  },
  {
   "cell_type": "markdown",
   "metadata": {},
   "source": [
    "#### Prediciton"
   ]
  },
  {
   "cell_type": "code",
   "execution_count": 79,
   "metadata": {
    "collapsed": false
   },
   "outputs": [],
   "source": [
    "# Variables and placeholders\n",
    "#conv1_W = tf.Variable(tf.truncated_normal(shape=(5, 5, 3, 6), mean = mu, stddev = sigma), name = 'conv1_W')\n",
    "#conv1_b = tf.Variable(tf.zeros(6), name = 'conv1_b')\n",
    "#conv1_1_W = tf.Variable(tf.truncated_normal(shape=(1, 1, 6, 11), mean = mu, stddev = sigma), name = 'conv1_1_W')\n",
    "#conv1_1_b = tf.Variable(tf.zeros(11), name = 'conv1_1_b')\n",
    "#conv2_W = tf.Variable(tf.truncated_normal(shape=(5, 5, 11, 16), mean = mu, stddev = sigma), name = 'conv2_W')\n",
    "#conv2_b = tf.Variable(tf.zeros(16), name = 'conv2_b')\n",
    "#fc1_W = tf.Variable(tf.truncated_normal(shape=(400, 120), mean = mu, stddev = sigma), name = 'fc1_W')\n",
    "#fc1_b = tf.Variable(tf.zeros(120), name = 'fc1_b')\n",
    "#fc2_W  = tf.Variable(tf.truncated_normal(shape=(120, 84), mean = mu, stddev = sigma), name = 'fc2_W')\n",
    "#fc2_b  = tf.Variable(tf.zeros(84), name = 'fc2_b')\n",
    "#fc3_W  = tf.Variable(tf.truncated_normal(shape=(84, 60), mean = mu, stddev = sigma), name = 'fc3_W')\n",
    "#fc3_b  = tf.Variable(tf.zeros(60), name = 'fc3_b')\n",
    "#out_W  = tf.Variable(tf.truncated_normal(shape=(60, n_classes), mean = mu, stddev = sigma), name = 'out_W')\n",
    "#out_b  = tf.Variable(tf.zeros(n_classes), name = 'out_b')\n",
    "#keep_prob = tf.placeholder(tf.float32)\n",
    "\n",
    "# Prediction\n",
    "#with tf.Session() as sess:\n",
    "    #tf.train.Saver().restore(sess, './tsc1')\n",
    "    #print(\"Model loaded\")\n",
    "    #result = sess.run(logits, feed_dict={x: X_new_norm[0], keep_prob: 1.0})"
   ]
  },
  {
   "cell_type": "markdown",
   "metadata": {},
   "source": [
    "### Analyze Performance"
   ]
  },
  {
   "cell_type": "code",
   "execution_count": 80,
   "metadata": {
    "collapsed": true
   },
   "outputs": [],
   "source": [
    "### Calculate the accuracy for these 5 new images. \n",
    "### For example, if the model predicted 1 out of 5 signs correctly, it's 20% accurate on these new images."
   ]
  },
  {
   "cell_type": "markdown",
   "metadata": {},
   "source": [
    "### Output Top 5 Softmax Probabilities For Each Image Found on the Web"
   ]
  },
  {
   "cell_type": "markdown",
   "metadata": {},
   "source": [
    "For each of the new images, print out the model's softmax probabilities to show the **certainty** of the model's predictions (limit the output to the top 5 probabilities for each image). [`tf.nn.top_k`](https://www.tensorflow.org/versions/r0.12/api_docs/python/nn.html#top_k) could prove helpful here. \n",
    "\n",
    "The example below demonstrates how tf.nn.top_k can be used to find the top k predictions for each image.\n",
    "\n",
    "`tf.nn.top_k` will return the values and indices (class ids) of the top k predictions. So if k=3, for each sign, it'll return the 3 largest probabilities (out of a possible 43) and the correspoding class ids.\n",
    "\n",
    "Take this numpy array as an example. The values in the array represent predictions. The array contains softmax probabilities for five candidate images with six possible classes. `tk.nn.top_k` is used to choose the three classes with the highest probability:\n",
    "\n",
    "```\n",
    "# (5, 6) array\n",
    "a = np.array([[ 0.24879643,  0.07032244,  0.12641572,  0.34763842,  0.07893497,\n",
    "         0.12789202],\n",
    "       [ 0.28086119,  0.27569815,  0.08594638,  0.0178669 ,  0.18063401,\n",
    "         0.15899337],\n",
    "       [ 0.26076848,  0.23664738,  0.08020603,  0.07001922,  0.1134371 ,\n",
    "         0.23892179],\n",
    "       [ 0.11943333,  0.29198961,  0.02605103,  0.26234032,  0.1351348 ,\n",
    "         0.16505091],\n",
    "       [ 0.09561176,  0.34396535,  0.0643941 ,  0.16240774,  0.24206137,\n",
    "         0.09155967]])\n",
    "```\n",
    "\n",
    "Running it through `sess.run(tf.nn.top_k(tf.constant(a), k=3))` produces:\n",
    "\n",
    "```\n",
    "TopKV2(values=array([[ 0.34763842,  0.24879643,  0.12789202],\n",
    "       [ 0.28086119,  0.27569815,  0.18063401],\n",
    "       [ 0.26076848,  0.23892179,  0.23664738],\n",
    "       [ 0.29198961,  0.26234032,  0.16505091],\n",
    "       [ 0.34396535,  0.24206137,  0.16240774]]), indices=array([[3, 0, 5],\n",
    "       [0, 1, 4],\n",
    "       [0, 5, 1],\n",
    "       [1, 3, 5],\n",
    "       [1, 4, 3]], dtype=int32))\n",
    "```\n",
    "\n",
    "Looking just at the first row we get `[ 0.34763842,  0.24879643,  0.12789202]`, you can confirm these are the 3 largest probabilities in `a`. You'll also notice `[3, 0, 5]` are the corresponding indices."
   ]
  },
  {
   "cell_type": "code",
   "execution_count": 81,
   "metadata": {
    "collapsed": true
   },
   "outputs": [],
   "source": [
    "### Print out the top five softmax probabilities for the predictions on the German traffic sign images found on the web. \n",
    "### Feel free to use as many code cells as needed."
   ]
  },
  {
   "cell_type": "markdown",
   "metadata": {},
   "source": [
    "### Project Writeup\n",
    "\n",
    "Once you have completed the code implementation, document your results in a project writeup using this [template](https://github.com/udacity/CarND-Traffic-Sign-Classifier-Project/blob/master/writeup_template.md) as a guide. The writeup can be in a markdown or pdf file. "
   ]
  },
  {
   "cell_type": "markdown",
   "metadata": {},
   "source": [
    "> **Note**: Once you have completed all of the code implementations and successfully answered each question above, you may finalize your work by exporting the iPython Notebook as an HTML document. You can do this by using the menu above and navigating to  \\n\",\n",
    "    \"**File -> Download as -> HTML (.html)**. Include the finished document along with this notebook as your submission."
   ]
  },
  {
   "cell_type": "markdown",
   "metadata": {},
   "source": [
    "---\n",
    "\n",
    "## Step 4 (Optional): Visualize the Neural Network's State with Test Images\n",
    "\n",
    " This Section is not required to complete but acts as an additional excersise for understaning the output of a neural network's weights. While neural networks can be a great learning device they are often referred to as a black box. We can understand what the weights of a neural network look like better by plotting their feature maps. After successfully training your neural network you can see what it's feature maps look like by plotting the output of the network's weight layers in response to a test stimuli image. From these plotted feature maps, it's possible to see what characteristics of an image the network finds interesting. For a sign, maybe the inner network feature maps react with high activation to the sign's boundary outline or to the contrast in the sign's painted symbol.\n",
    "\n",
    " Provided for you below is the function code that allows you to get the visualization output of any tensorflow weight layer you want. The inputs to the function should be a stimuli image, one used during training or a new one you provided, and then the tensorflow variable name that represents the layer's state during the training process, for instance if you wanted to see what the [LeNet lab's](https://classroom.udacity.com/nanodegrees/nd013/parts/fbf77062-5703-404e-b60c-95b78b2f3f9e/modules/6df7ae49-c61c-4bb2-a23e-6527e69209ec/lessons/601ae704-1035-4287-8b11-e2c2716217ad/concepts/d4aca031-508f-4e0b-b493-e7b706120f81) feature maps looked like for it's second convolutional layer you could enter conv2 as the tf_activation variable.\n",
    "\n",
    "For an example of what feature map outputs look like, check out NVIDIA's results in their paper [End-to-End Deep Learning for Self-Driving Cars](https://devblogs.nvidia.com/parallelforall/deep-learning-self-driving-cars/) in the section Visualization of internal CNN State. NVIDIA was able to show that their network's inner weights had high activations to road boundary lines by comparing feature maps from an image with a clear path to one without. Try experimenting with a similar test to show that your trained network's weights are looking for interesting features, whether it's looking at differences in feature maps from images with or without a sign, or even what feature maps look like in a trained network vs a completely untrained one on the same sign image.\n",
    "\n",
    "<figure>\n",
    " <img src=\"visualize_cnn.png\" width=\"380\" alt=\"Combined Image\" />\n",
    " <figcaption>\n",
    " <p></p> \n",
    " <p style=\"text-align: center;\"> Your output should look something like this (above)</p> \n",
    " </figcaption>\n",
    "</figure>\n",
    " <p></p> \n"
   ]
  },
  {
   "cell_type": "code",
   "execution_count": 82,
   "metadata": {
    "collapsed": true
   },
   "outputs": [],
   "source": [
    "### Visualize your network's feature maps here.\n",
    "### Feel free to use as many code cells as needed.\n",
    "\n",
    "# image_input: the test image being fed into the network to produce the feature maps\n",
    "# tf_activation: should be a tf variable name used during your training procedure that represents the calculated state of a specific weight layer\n",
    "# activation_min/max: can be used to view the activation contrast in more detail, by default matplot sets min and max to the actual min and max values of the output\n",
    "# plt_num: used to plot out multiple different weight feature map sets on the same block, just extend the plt number for each new feature map entry\n",
    "\n",
    "#def outputFeatureMap(image_input, tf_activation, activation_min=-1, activation_max=-1 ,plt_num=1):\n",
    "    # Here make sure to preprocess your image_input in a way your network expects\n",
    "    # with size, normalization, ect if needed\n",
    "    # image_input =\n",
    "    # Note: x should be the same name as your network's tensorflow data placeholder variable\n",
    "    # If you get an error tf_activation is not defined it may be having trouble accessing the variable from inside a function\n",
    "    #activation = tf_activation.eval(session=sess,feed_dict={x : image_input})\n",
    "    #featuremaps = activation.shape[3]\n",
    "    #plt.figure(plt_num, figsize=(15,15))\n",
    "    #for featuremap in range(featuremaps):\n",
    "        #plt.subplot(6,8, featuremap+1) # sets the number of feature maps to show on each row and column\n",
    "        #plt.title('FeatureMap ' + str(featuremap)) # displays the feature map number\n",
    "        #if activation_min != -1 & activation_max != -1:\n",
    "            #plt.imshow(activation[0,:,:, featuremap], interpolation=\"nearest\", vmin =activation_min, vmax=activation_max, cmap=\"gray\")\n",
    "        #elif activation_max != -1:\n",
    "            #plt.imshow(activation[0,:,:, featuremap], interpolation=\"nearest\", vmax=activation_max, cmap=\"gray\")\n",
    "        #elif activation_min !=-1:\n",
    "            #plt.imshow(activation[0,:,:, featuremap], interpolation=\"nearest\", vmin=activation_min, cmap=\"gray\")\n",
    "        #else:\n",
    "            #plt.imshow(activation[0,:,:, featuremap], interpolation=\"nearest\", cmap=\"gray\")"
   ]
  }
 ],
 "metadata": {
  "anaconda-cloud": {},
  "kernelspec": {
   "display_name": "Python 3",
   "language": "python",
   "name": "python3"
  },
  "language_info": {
   "codemirror_mode": {
    "name": "ipython",
    "version": 3
   },
   "file_extension": ".py",
   "mimetype": "text/x-python",
   "name": "python",
   "nbconvert_exporter": "python",
   "pygments_lexer": "ipython3",
   "version": "3.5.2"
  },
  "widgets": {
   "state": {},
   "version": "1.1.2"
  }
 },
 "nbformat": 4,
 "nbformat_minor": 1
}
